{
 "cells": [
  {
   "cell_type": "code",
   "execution_count": null,
   "id": "910b691a-f563-458a-974e-8e9f7e5c670c",
   "metadata": {},
   "outputs": [],
   "source": []
  }
 ],
 "metadata": {
  "kernelspec": {
   "display_name": "",
   "name": ""
  },
  "language_info": {
   "name": ""
  }
 },
 "nbformat": 4,
 "nbformat_minor": 5
}
