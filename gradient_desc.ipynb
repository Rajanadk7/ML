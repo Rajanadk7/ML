{
 "cells": [
  {
   "cell_type": "code",
   "execution_count": 47,
   "id": "dde9c740-fedd-4077-9b53-f254273d0854",
   "metadata": {},
   "outputs": [],
   "source": [
    "import numpy as np\n",
    "import matplotlib.pyplot as plt"
   ]
  },
  {
   "cell_type": "code",
   "execution_count": 48,
   "id": "e9307242-b609-4744-a94a-df195312de23",
   "metadata": {},
   "outputs": [],
   "source": [
    "def gradient_descent(x, y):\n",
    "    m_curr = b_curr = 0\n",
    "    iterations = 100\n",
    "    n = len(x)\n",
    "    learning_rate = 0.08\n",
    "    cost_list = []  # Store cost for each iteration\n",
    "\n",
    "    for i in range(iterations):\n",
    "        y_predicted = m_curr * x + b_curr\n",
    "        cost = (1/n) * sum((y - y_predicted)**2)\n",
    "        cost_list.append(cost)\n",
    "        \n",
    "        md = (-2/n) * sum(x * (y - y_predicted))\n",
    "        bd = (-2/n) * sum(y - y_predicted)\n",
    "        m_curr = m_curr - learning_rate * md\n",
    "        b_curr = b_curr - learning_rate * bd\n",
    "        \n",
    "        print(\"m: {:.4f}, b: {:.4f}, cost: {:.4f}, iteration: {}\".format(m_curr, b_curr, cost, i))\n",
    "    \n",
    "    return m_curr, b_curr, cost_list\n"
   ]
  },
  {
   "cell_type": "code",
   "execution_count": 49,
   "id": "11347a7b-80f6-474b-b70e-6a825d9256e2",
   "metadata": {},
   "outputs": [],
   "source": [
    "x = np.array([1,2,3,4,5], dtype = float)\n",
    "y = np.array([5,7,9,11,13], dtype = float)"
   ]
  },
  {
   "cell_type": "code",
   "execution_count": 50,
   "id": "800e4d84-2bb7-4a13-a133-28353c2b09e9",
   "metadata": {},
   "outputs": [
    {
     "name": "stdout",
     "output_type": "stream",
     "text": [
      "m: 4.9600, b: 1.4400, cost: 89.0000, iteration: 0\n",
      "m: 0.4992, b: 0.2688, cost: 71.1056, iteration: 1\n",
      "m: 4.4516, b: 1.4262, cost: 56.8298, iteration: 2\n",
      "m: 0.8922, b: 0.5012, cost: 45.4397, iteration: 3\n",
      "m: 4.0413, b: 1.4328, cost: 36.3509, iteration: 4\n",
      "m: 1.2009, b: 0.7037, cost: 29.0975, iteration: 5\n",
      "m: 3.7096, b: 1.4547, cost: 23.3079, iteration: 6\n",
      "m: 1.4425, b: 0.8813, cost: 18.6858, iteration: 7\n",
      "m: 3.4407, b: 1.4879, cost: 14.9949, iteration: 8\n",
      "m: 1.6309, b: 1.0383, cost: 12.0468, iteration: 9\n",
      "m: 3.2221, b: 1.5294, cost: 9.6913, iteration: 10\n",
      "m: 1.7771, b: 1.1781, cost: 7.8085, iteration: 11\n",
      "m: 3.0439, b: 1.5766, cost: 6.3029, iteration: 12\n",
      "m: 1.8898, b: 1.3032, cost: 5.0983, iteration: 13\n",
      "m: 2.8982, b: 1.6276, cost: 4.1340, iteration: 14\n",
      "m: 1.9762, b: 1.4160, cost: 3.3613, iteration: 15\n",
      "m: 2.7784, b: 1.6809, cost: 2.7418, iteration: 16\n",
      "m: 2.0416, b: 1.5183, cost: 2.2445, iteration: 17\n",
      "m: 2.6796, b: 1.7355, cost: 1.8449, iteration: 18\n",
      "m: 2.0905, b: 1.6116, cost: 1.5233, iteration: 19\n",
      "m: 2.5977, b: 1.7903, cost: 1.2641, iteration: 20\n",
      "m: 2.1264, b: 1.6970, cost: 1.0548, iteration: 21\n",
      "m: 2.5294, b: 1.8448, cost: 0.8854, iteration: 22\n",
      "m: 2.1522, b: 1.7755, cost: 0.7479, iteration: 23\n",
      "m: 2.4721, b: 1.8984, cost: 0.6361, iteration: 24\n",
      "m: 2.1700, b: 1.8480, cost: 0.5448, iteration: 25\n",
      "m: 2.4238, b: 1.9507, cost: 0.4700, iteration: 26\n",
      "m: 2.1816, b: 1.9152, cost: 0.4084, iteration: 27\n",
      "m: 2.3827, b: 2.0016, cost: 0.3576, iteration: 28\n",
      "m: 2.1884, b: 1.9777, cost: 0.3153, iteration: 29\n",
      "m: 2.3476, b: 2.0508, cost: 0.2800, iteration: 30\n",
      "m: 2.1915, b: 2.0359, cost: 0.2503, iteration: 31\n",
      "m: 2.3173, b: 2.0982, cost: 0.2252, iteration: 32\n",
      "m: 2.1917, b: 2.0902, cost: 0.2038, iteration: 33\n",
      "m: 2.2910, b: 2.1438, cost: 0.1855, iteration: 34\n",
      "m: 2.1899, b: 2.1411, cost: 0.1696, iteration: 35\n",
      "m: 2.2680, b: 2.1874, cost: 0.1558, iteration: 36\n",
      "m: 2.1864, b: 2.1888, cost: 0.1437, iteration: 37\n",
      "m: 2.2477, b: 2.2291, cost: 0.1330, iteration: 38\n",
      "m: 2.1817, b: 2.2335, cost: 0.1235, iteration: 39\n",
      "m: 2.2298, b: 2.2689, cost: 0.1150, iteration: 40\n",
      "m: 2.1763, b: 2.2756, cost: 0.1073, iteration: 41\n",
      "m: 2.2137, b: 2.3069, cost: 0.1004, iteration: 42\n",
      "m: 2.1703, b: 2.3152, cost: 0.0941, iteration: 43\n",
      "m: 2.1993, b: 2.3430, cost: 0.0883, iteration: 44\n",
      "m: 2.1639, b: 2.3525, cost: 0.0829, iteration: 45\n",
      "m: 2.1863, b: 2.3774, cost: 0.0780, iteration: 46\n",
      "m: 2.1573, b: 2.3876, cost: 0.0735, iteration: 47\n",
      "m: 2.1744, b: 2.4101, cost: 0.0692, iteration: 48\n",
      "m: 2.1506, b: 2.4208, cost: 0.0653, iteration: 49\n",
      "m: 2.1636, b: 2.4412, cost: 0.0616, iteration: 50\n",
      "m: 2.1439, b: 2.4521, cost: 0.0582, iteration: 51\n",
      "m: 2.1536, b: 2.4707, cost: 0.0549, iteration: 52\n",
      "m: 2.1373, b: 2.4816, cost: 0.0519, iteration: 53\n",
      "m: 2.1445, b: 2.4986, cost: 0.0490, iteration: 54\n",
      "m: 2.1309, b: 2.5095, cost: 0.0464, iteration: 55\n",
      "m: 2.1360, b: 2.5252, cost: 0.0438, iteration: 56\n",
      "m: 2.1246, b: 2.5359, cost: 0.0415, iteration: 57\n",
      "m: 2.1281, b: 2.5503, cost: 0.0392, iteration: 58\n",
      "m: 2.1185, b: 2.5608, cost: 0.0371, iteration: 59\n",
      "m: 2.1208, b: 2.5742, cost: 0.0351, iteration: 60\n",
      "m: 2.1126, b: 2.5844, cost: 0.0332, iteration: 61\n",
      "m: 2.1139, b: 2.5968, cost: 0.0314, iteration: 62\n",
      "m: 2.1069, b: 2.6066, cost: 0.0297, iteration: 63\n",
      "m: 2.1075, b: 2.6182, cost: 0.0281, iteration: 64\n",
      "m: 2.1015, b: 2.6277, cost: 0.0266, iteration: 65\n",
      "m: 2.1016, b: 2.6385, cost: 0.0252, iteration: 66\n",
      "m: 2.0963, b: 2.6476, cost: 0.0239, iteration: 67\n",
      "m: 2.0959, b: 2.6578, cost: 0.0226, iteration: 68\n",
      "m: 2.0914, b: 2.6665, cost: 0.0214, iteration: 69\n",
      "m: 2.0907, b: 2.6760, cost: 0.0202, iteration: 70\n",
      "m: 2.0866, b: 2.6843, cost: 0.0191, iteration: 71\n",
      "m: 2.0857, b: 2.6933, cost: 0.0181, iteration: 72\n",
      "m: 2.0821, b: 2.7012, cost: 0.0172, iteration: 73\n",
      "m: 2.0810, b: 2.7096, cost: 0.0162, iteration: 74\n",
      "m: 2.0778, b: 2.7172, cost: 0.0154, iteration: 75\n",
      "m: 2.0766, b: 2.7251, cost: 0.0145, iteration: 76\n",
      "m: 2.0737, b: 2.7323, cost: 0.0138, iteration: 77\n",
      "m: 2.0725, b: 2.7397, cost: 0.0130, iteration: 78\n",
      "m: 2.0699, b: 2.7466, cost: 0.0123, iteration: 79\n",
      "m: 2.0685, b: 2.7536, cost: 0.0117, iteration: 80\n",
      "m: 2.0662, b: 2.7601, cost: 0.0111, iteration: 81\n",
      "m: 2.0648, b: 2.7667, cost: 0.0105, iteration: 82\n",
      "m: 2.0627, b: 2.7729, cost: 0.0099, iteration: 83\n",
      "m: 2.0614, b: 2.7792, cost: 0.0094, iteration: 84\n",
      "m: 2.0594, b: 2.7851, cost: 0.0089, iteration: 85\n",
      "m: 2.0581, b: 2.7910, cost: 0.0084, iteration: 86\n",
      "m: 2.0562, b: 2.7965, cost: 0.0080, iteration: 87\n",
      "m: 2.0549, b: 2.8021, cost: 0.0075, iteration: 88\n",
      "m: 2.0532, b: 2.8074, cost: 0.0071, iteration: 89\n",
      "m: 2.0520, b: 2.8127, cost: 0.0068, iteration: 90\n",
      "m: 2.0504, b: 2.8177, cost: 0.0064, iteration: 91\n",
      "m: 2.0492, b: 2.8227, cost: 0.0060, iteration: 92\n",
      "m: 2.0477, b: 2.8274, cost: 0.0057, iteration: 93\n",
      "m: 2.0466, b: 2.8321, cost: 0.0054, iteration: 94\n",
      "m: 2.0452, b: 2.8366, cost: 0.0051, iteration: 95\n",
      "m: 2.0441, b: 2.8411, cost: 0.0049, iteration: 96\n",
      "m: 2.0428, b: 2.8453, cost: 0.0046, iteration: 97\n",
      "m: 2.0417, b: 2.8495, cost: 0.0044, iteration: 98\n",
      "m: 2.0405, b: 2.8536, cost: 0.0041, iteration: 99\n"
     ]
    }
   ],
   "source": [
    "m, b, cost = gradient_descent(x, y)"
   ]
  },
  {
   "cell_type": "code",
   "execution_count": 51,
   "id": "2b1280b9-887b-4272-bf6c-ef0f5cee1309",
   "metadata": {},
   "outputs": [
    {
     "data": {
      "image/png": "[encoded data removed]",
      "text/plain": [
       "<Figure size 640x480 with 1 Axes>"
      ]
     },
     "metadata": {},
     "output_type": "display_data"
    }
   ],
   "source": [
    "plt.plot(cost)\n",
    "plt.xlabel(\"iteration\")\n",
    "plt.ylabel(\"Cost (mse)\")\n",
    "plt.title(\"Cost Function over Iterations\")\n",
    "plt.show()"
   ]
  },
  {
   "cell_type": "code",
   "execution_count": null,
   "id": "47f70c5a-bf95-436a-8511-60206f05342c",
   "metadata": {},
   "outputs": [],
   "source": []
  }
 ],
 "metadata": {
  "kernelspec": {
   "display_name": "Python 3 (ipykernel)",
   "language": "python",
   "name": "python3"
  },
  "language_info": {
   "codemirror_mode": {
    "name": "ipython",
    "version": 3
   },
   "file_extension": ".py",
   "mimetype": "text/x-python",
   "name": "python",
   "nbconvert_exporter": "python",
   "pygments_lexer": "ipython3",
   "version": "3.13.3"
  }
 },
 "nbformat": 4,
 "nbformat_minor": 5
}
