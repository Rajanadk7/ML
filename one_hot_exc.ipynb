{
 "cells": [
  {
   "cell_type": "code",
   "execution_count": null,
   "id": "3b6aa83d-f413-4266-9012-75585c6e507f",
   "metadata": {},
   "outputs": [],
   "source": []
  }
 ],
 "metadata": {
  "kernelspec": {
   "display_name": "",
   "name": ""
  },
  "language_info": {
   "name": ""
  }
 },
 "nbformat": 4,
 "nbformat_minor": 5
}
