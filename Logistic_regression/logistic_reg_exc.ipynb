{
 "cells": [
  {
   "cell_type": "code",
   "execution_count": null,
   "id": "76dc85cc-b013-471b-a410-36fb4ae854b1",
   "metadata": {},
   "outputs": [],
   "source": []
  }
 ],
 "metadata": {
  "kernelspec": {
   "display_name": "",
   "name": ""
  },
  "language_info": {
   "name": ""
  }
 },
 "nbformat": 4,
 "nbformat_minor": 5
}
